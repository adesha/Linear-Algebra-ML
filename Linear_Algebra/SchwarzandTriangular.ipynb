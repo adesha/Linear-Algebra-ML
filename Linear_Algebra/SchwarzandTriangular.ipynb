{
 "cells": [
  {
   "cell_type": "code",
   "execution_count": 1,
   "metadata": {},
   "outputs": [
    {
     "name": "stdout",
     "output_type": "stream",
     "text": [
      "Shwarz inequality: True\n",
      "Triangular inequality: True\n"
     ]
    }
   ],
   "source": [
    "import numpy as np\n",
    "import math\n",
    "def length(v):\n",
    "    return math.sqrt(v[0]*v[0]+v[1]*v[1])\n",
    "#Shwarz inequality\n",
    "a=np.array([1,2])\n",
    "b=np.array([3,2])\n",
    "c=a+b\n",
    "d=a-b\n",
    "dotproduct=np.sum(a*b)\n",
    "moda=length(a)\n",
    "modb=length(b)\n",
    "print('Shwarz inequality: '+str(dotproduct<=moda*modb))\n",
    "#triangular inequality\n",
    "print('Triangular inequality: '+str(length(a+b)<=moda+modb))"
   ]
  },
  {
   "cell_type": "code",
   "execution_count": null,
   "metadata": {},
   "outputs": [],
   "source": []
  }
 ],
 "metadata": {
  "kernelspec": {
   "display_name": "Python 3",
   "language": "python",
   "name": "python3"
  },
  "language_info": {
   "codemirror_mode": {
    "name": "ipython",
    "version": 3
   },
   "file_extension": ".py",
   "mimetype": "text/x-python",
   "name": "python",
   "nbconvert_exporter": "python",
   "pygments_lexer": "ipython3",
   "version": "3.8.5"
  }
 },
 "nbformat": 4,
 "nbformat_minor": 4
}
